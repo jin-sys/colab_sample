{
  "nbformat": 4,
  "nbformat_minor": 0,
  "metadata": {
    "colab": {
      "name": "first_notebook.ipynb",
      "provenance": [],
      "authorship_tag": "ABX9TyNuBLyKH4pUN8eKUcgN9raO",
      "include_colab_link": true
    },
    "kernelspec": {
      "name": "python3",
      "display_name": "Python 3"
    }
  },
  "cells": [
    {
      "cell_type": "markdown",
      "metadata": {
        "id": "view-in-github",
        "colab_type": "text"
      },
      "source": [
        "<a href=\"https://colab.research.google.com/github/jin-sys/colab_sample/blob/master/first_notebook.ipynb\" target=\"_parent\"><img src=\"https://colab.research.google.com/assets/colab-badge.svg\" alt=\"Open In Colab\"/></a>"
      ]
    },
    {
      "cell_type": "markdown",
      "metadata": {
        "id": "9KE9wesGvR6w",
        "colab_type": "text"
      },
      "source": [
        "# おめでとう！\n",
        "## 最初のコードを実行できました。\n",
        "人工知能を学んでいきましょう！  \n",
        "Google Colaboratoryを使いこなしましょう！\n",
        "$$y = \\frac{1}{x}$$\n",
        "これは、LateXで記述しています。"
      ]
    },
    {
      "cell_type": "code",
      "metadata": {
        "id": "lA14KTzTuXJ0",
        "colab_type": "code",
        "colab": {
          "base_uri": "https://localhost:8080/",
          "height": 34
        },
        "outputId": "54ab8a11-ca5f-447b-becc-01dc438aa11f"
      },
      "source": [
        "print(\"hello world!\")"
      ],
      "execution_count": 1,
      "outputs": [
        {
          "output_type": "stream",
          "text": [
            "hello world!\n"
          ],
          "name": "stdout"
        }
      ]
    },
    {
      "cell_type": "code",
      "metadata": {
        "id": "EvcdPAJh-l6-",
        "colab_type": "code",
        "colab": {
          "base_uri": "https://localhost:8080/",
          "height": 34
        },
        "outputId": "2bbcf889-fb87-4351-a869-0784894a67b9"
      },
      "source": [
        "!cat /proc/uptime | awk '{print $1/60/60 \"h\"}'"
      ],
      "execution_count": 8,
      "outputs": [
        {
          "output_type": "stream",
          "text": [
            "3.74539h\n"
          ],
          "name": "stdout"
        }
      ]
    }
  ]
}